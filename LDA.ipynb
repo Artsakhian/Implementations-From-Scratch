{
 "cells": [
  {
   "cell_type": "markdown",
   "metadata": {
    "id": "qfW9q3VdUunl"
   },
   "source": [
    "# Homework"
   ]
  },
  {
   "cell_type": "code",
   "execution_count": null,
   "metadata": {
    "id": "hhJOf35PUun3"
   },
   "outputs": [],
   "source": [
    "# Please implement LDA class below"
   ]
  },
  {
   "cell_type": "code",
   "execution_count": 1,
   "metadata": {
    "id": "lfw_ttHcX3vU"
   },
   "outputs": [],
   "source": [
    "import numpy as np\n",
    "from sklearn.model_selection import train_test_split"
   ]
  },
  {
   "cell_type": "code",
   "execution_count": 19,
   "metadata": {
    "id": "LSNxlj8zUun7"
   },
   "outputs": [],
   "source": [
    "class LDA:\n",
    "    def __init__(self, n_components):\n",
    "        self.n_components = n_components\n",
    "        self.linear_discriminats = None\n",
    "    \n",
    "    def fit(self, X, y):\n",
    "        number_of_features = X.shape[1]\n",
    "        labels = np.unique(y)\n",
    "        \n",
    "        mean_overall = np.mean(X, axis=0)\n",
    "        \n",
    "        s_w = np.zeros((number_of_features, number_of_features))\n",
    "        s_b = np.zeros((number_of_features, number_of_features))\n",
    "        \n",
    "        for i in labels:\n",
    "            X_c = X[i == y]\n",
    "            mean_c = np.mean(X_c, axis=0)\n",
    "            s_w += (X_c - mean_c).T.dot(X_c - mean_c)\n",
    "            \n",
    "            n_c = X_c.shape[0]\n",
    "            mean_difference = (mean_c - mean_overall).reshape(number_of_features, 1)\n",
    "            \n",
    "            s_b += n_c * (mean_difference).dot(mean_difference.T)\n",
    "            \n",
    "        A = np.linalg.inv(s_w).dot(s_b)\n",
    "        \n",
    "        eigenvalues, eigenvectors = np.linalg.eig(A)\n",
    "        eigenvectors = eigenvectors.T\n",
    "        indices = np.argsort(abs(eigenvalues))[::1]\n",
    "        eigenvalues = eigenvalues[indices]\n",
    "        eigenvectors = eigenvectors[indices]\n",
    "        self.linear_discriminats = eigenvectors[0:self.n_components]\n",
    "\n",
    "        \n",
    "    def transform(self, X):\n",
    "        return np.dot(X,self.linear_discriminats.T)\n",
    "        \n",
    "    def score(self, X, y):\n",
    "        X_transformed = self.transform(X)\n",
    "        predictions = np.argmax(X_transformed, axis=1)\n",
    "        accuracy = np.mean(predictions == y)\n",
    "        return accuracy\n",
    "            \n",
    "        \n",
    "        \n",
    "        \n",
    "        \n",
    "        "
   ]
  },
  {
   "cell_type": "markdown",
   "metadata": {
    "id": "pXNdTvY_Xh5D"
   },
   "source": [
    "# Testing"
   ]
  },
  {
   "cell_type": "code",
   "execution_count": 24,
   "metadata": {
    "id": "7P41xHREU4q-"
   },
   "outputs": [],
   "source": [
    "class0_len = 1000\n",
    "X0 = np.random.multivariate_normal([1,2,-1], np.array([[1, 0.9, 0.9], [0.9, 1, 0.9], [0.9, 0.9, 1]]), size=class0_len)\n",
    "y0 = [0]*class0_len\n",
    "\n",
    "class1_len = 3000\n",
    "X1 = np.random.multivariate_normal([1,1,0], np.array([[1, 0.9, 0.9], [0.9, 1, 0.9], [0.9, 0.9, 1]]), size=class1_len)\n",
    "y1 = [1]*class1_len\n",
    "\n",
    "X = np.concatenate((X0, X1))\n",
    "y = y0+y1\n",
    "\n",
    "X_train, X_test, y_train, y_test = train_test_split(X, np.array(y))"
   ]
  },
  {
   "cell_type": "code",
   "execution_count": 25,
   "metadata": {
    "id": "KW-jEF6NVAE8"
   },
   "outputs": [
    {
     "name": "stdout",
     "output_type": "stream",
     "text": [
      "Accuracy: 24.90%\n"
     ]
    }
   ],
   "source": [
    "lda = LDA(1)\n",
    "lda.fit(X_train, y_train)\n",
    "accuracy = lda.score(X_test, y_test)\n",
    "print(f\"Accuracy: {accuracy * 100:.2f}%\")"
   ]
  },
  {
   "cell_type": "code",
   "execution_count": null,
   "metadata": {},
   "outputs": [],
   "source": []
  }
 ],
 "metadata": {
  "colab": {
   "provenance": []
  },
  "kernelspec": {
   "display_name": "Python 3 (ipykernel)",
   "language": "python",
   "name": "python3"
  },
  "language_info": {
   "codemirror_mode": {
    "name": "ipython",
    "version": 3
   },
   "file_extension": ".py",
   "mimetype": "text/x-python",
   "name": "python",
   "nbconvert_exporter": "python",
   "pygments_lexer": "ipython3",
   "version": "3.11.5"
  }
 },
 "nbformat": 4,
 "nbformat_minor": 1
}
